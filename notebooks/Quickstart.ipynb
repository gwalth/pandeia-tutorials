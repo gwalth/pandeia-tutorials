{
 "cells": [
  {
   "cell_type": "markdown",
   "metadata": {},
   "source": [
    "# Installation procedure\n",
    "\n",
    "## Astroconda\n",
    "\n",
    "It is encourage that users install AstroConda in order to have easy access to some of the dependecies required by the Pandeia engine. Please see the [AstroConda documentation](http://astroconda.readthedocs.io/en/latest/installation.html#install-astroconda) for instructions on setting up your environment.\n",
    "\n",
    "\n",
    "## Pandeia\n",
    "\n",
    "Pandeia can be installed via the Python package index using the following command\n",
    "\n",
    "```bash\n",
    "pip install pandeia.engine\n",
    "```\n",
    "\n",
    "which will install Pandeia into your local environment.\n",
    "\n",
    "> **Note**: \n",
    "> Pandeia currently only supports Python 2.7. Please be sure that your environment uses the correct version.\n",
    "\n",
    "This will provide the user will the relevant core engine package for performing exposure time calculations. The engine is observatory-agnostic, meaning that the package does not come with any prescience about the calculations the user wishes to perform. In order to allow JWST calculations with Pandeia, the user must download the relevant data and configuration files.\n",
    "\n",
    "\n",
    "## Environment\n",
    "\n",
    "As mentioned, the user must provide their own reference data files in order for the engine to understand the instrument with which the calculations will be performed.\n",
    "\n",
    "For JWST, the user may download the required reference data [here](http://ssb.stsci.edu/pandeia/engine/1.2/pandeia_data-1.2.tar.gz), or [here for WFIRST](http://ssb.stsci.edu/pandeia/engine/1.2.1/pandeia_wfirst_data-1.2.1.tar.gz). Unpack and store the data in a choice location.\n",
    "\n",
    "Likewise, the user may wish to install specific data for use with the PySynPhot package Pandeia uses. For users at Space Telescope and connected to the local intranet, the files are already accessible on Central Storage; for others, see the [pysynphot install documentation](http://pysynphot.readthedocs.io/en/latest/index.html#pysynphot-installation-setup) for instructions on retrieving the necssary files from [CRDS](http://www.stsci.edu/hst/observatory/crds/throughput.html).\n",
    "\n",
    "Before running any calculations, environment variables must be set:\n",
    "\n",
    "- To tell Pandeia where to find the reference data files\n",
    "```bash\n",
    "export pandeia_refdata=/path/to/reference/data/directory\n",
    "```\n",
    "- To tell Pandeia where to find the CDBS for PySynPhot\n",
    "```bash\n",
    "export PYSYN_CDBS=/eng/ssb/pyetc/cdbs_trees/cdbs.23.1.rc3\n",
    "```\n",
    "\n",
    "These can be added to your shell startup script or set directly in your python scripts.\n",
    "\n",
    "\n",
    "## Dependencies\n",
    "\n",
    "- **PyFFTW**: Your environment must have access to the PyFFTW package. This can be downloaded through AstroConda\n",
    "```bash\n",
    "conda install pyfftw\n",
    "```\n",
    "Otherwise, the fftw libraries must be built using e.g. [Homebrew](http://brew.sh), and the python package installed through PyPI\n",
    "```bash\n",
    "pip install pyfftw\n",
    "```\n",
    "\n",
    "If you have access to AstroConda, a simple one-liner for installing depencies can be performed with\n",
    "\n",
    "```bash\n",
    "conda install numpy scipy astropy pyfftw pysynphot photutils\n",
    "```"
   ]
  },
  {
   "cell_type": "markdown",
   "metadata": {},
   "source": [
    "# Calculation files\n",
    "\n",
    "The Pandeia engine uses a data-driven approach in which users create astronomical *scenes* populated with *sources* and qualified with some set of parameters in order to generated appropriate calculations.\n",
    "\n",
    "These calculation files are written in `JSON` and fed into Pandeia. An example `JSON` scene file can be seen below for the MIRI Imager\n",
    "\n",
    "```json\n",
    "{\n",
    "    \"background\": \"medium\",\n",
    "    \"calculation\": {\n",
    "        \"effects\": {\n",
    "            \"background\": true,\n",
    "            \"ipc\": true,\n",
    "            \"saturation\": true\n",
    "        },\n",
    "        \"noise\": {\n",
    "            \"crs\": true,\n",
    "            \"darkcurrent\": true,\n",
    "            \"ffnoise\": true,\n",
    "            \"readnoise\": true,\n",
    "            \"rn_correlation\": true\n",
    "        }\n",
    "    },\n",
    "    \"configuration\": {\n",
    "        \"detector\": {\n",
    "            \"nexp\": 1,\n",
    "            \"ngroup\": 10,\n",
    "            \"nint\": 10,\n",
    "            \"readmode\": \"fast\",\n",
    "            \"subarray\": \"full\"\n",
    "        },\n",
    "        \"dynamic_scene\": true,\n",
    "        \"instrument\": {\n",
    "            \"aperture\": \"imager\",\n",
    "            \"disperser\": null,\n",
    "            \"filter\": \"f560w\",\n",
    "            \"instrument\": \"miri\",\n",
    "            \"mode\": \"imaging\"\n",
    "        },\n",
    "        \"max_scene_size\": 40.0,\n",
    "        \"scene_size\": 6.0\n",
    "    },\n",
    "    \"scene\": [\n",
    "        {\n",
    "            \"id\": 1,\n",
    "            \"position\": {\n",
    "                \"orientation\": 0.0,\n",
    "                \"x_offset\": 0.0,\n",
    "                \"y_offset\": 0.0\n",
    "            },\n",
    "            \"shape\": {\n",
    "                \"geometry\": \"point\"\n",
    "            },\n",
    "            \"spectrum\": {\n",
    "                \"extinction\": {\n",
    "                    \"bandpass\": \"v\",\n",
    "                    \"law\": \"mw_rv_31\",\n",
    "                    \"unit\": \"mag\",\n",
    "                    \"value\": 0.0\n",
    "                },\n",
    "                \"lines\": [],\n",
    "                \"name\": \"generic source\",\n",
    "                \"normalization\": {\n",
    "                    \"norm_flux\": 0.1,\n",
    "                    \"norm_fluxunit\": \"mjy\",\n",
    "                    \"norm_wave\": 2.0,\n",
    "                    \"norm_waveunit\": \"microns\",\n",
    "                    \"type\": \"at_lambda\"\n",
    "                },\n",
    "                \"redshift\": 0.0,\n",
    "                \"sed\": {\n",
    "                    \"sed_type\": \"flat\",\n",
    "                    \"unit\": \"fnu\"\n",
    "                }\n",
    "            }\n",
    "        }\n",
    "    ],\n",
    "    \"strategy\": {\n",
    "        \"aperture_size\": 0.24,\n",
    "        \"background_subtraction\": true,\n",
    "        \"display_string\": \"Imaging Aperture Photometry\",\n",
    "        \"method\": \"imagingapphot\",\n",
    "        \"sky_annulus\": [\n",
    "            0.72,\n",
    "            0.96\n",
    "        ],\n",
    "        \"target_source\": 1,\n",
    "        \"target_type\": \"\",\n",
    "        \"target_xy\": [\n",
    "            0.0,\n",
    "            0.0\n",
    "        ],\n",
    "        \"units\": \"arcsec\"\n",
    "    }\n",
    "}\n",
    "```"
   ]
  },
  {
   "cell_type": "markdown",
   "metadata": {
    "collapsed": true
   },
   "source": [
    "The above calculation file places a single point source with no extinction at the very center of the scene. The point source, as well as the scene, can be parameterized in many ways (to get a visual feel for the options available, take a look at the [JWST ETC](https://jwst.etc.stsci.edu/))."
   ]
  },
  {
   "cell_type": "markdown",
   "metadata": {},
   "source": [
    "# Running calculations\n",
    "\n",
    "Now that the package has been properly installed and an understanding of how to dictate the parameter space of the calculations has been established, the user is able to perform the exposure time calculation.\n",
    "\n",
    "In a new python file, the user need only import the `perform_engine` function from the Pandeia package. Along with this, the `JSON` library must also be included so that the user is able to read in the scene file they have created."
   ]
  },
  {
   "cell_type": "code",
   "execution_count": 1,
   "metadata": {},
   "outputs": [],
   "source": [
    "# Import relevant libraries\n",
    "from pandeia.engine.perform_calculation import perform_calculation\n",
    "import json\n",
    "\n",
    "# Load in your scene file\n",
    "with open(\"../configurations/jwst/miri/imaging.json\") as f:\n",
    "    imgr_data = json.load(f)"
   ]
  },
  {
   "cell_type": "markdown",
   "metadata": {},
   "source": [
    "The user now has access to the `imgr_data` object, which is a simple python dictionary. By editing parameters in this object, the user may tweak their calculations."
   ]
  },
  {
   "cell_type": "code",
   "execution_count": 2,
   "metadata": {},
   "outputs": [
    {
     "name": "stderr",
     "output_type": "stream",
     "text": [
      "/Users/mperrin/Dropbox (Personal)/Documents/software/git/pandeia.engine-1.2.1/build/lib/pandeia/engine/etc3D.py:1053: RuntimeWarning: invalid value encountered in sqrt\n",
      "  stdev_pix = np.sqrt(var_pix)\n"
     ]
    }
   ],
   "source": [
    "# Change the flux value of the source\n",
    "imgr_data['scene'][0]['spectrum']['normalization']['norm_flux'] = 100\n",
    "\n",
    "# Perform a calculation\n",
    "results = perform_calculation(imgr_data)"
   ]
  },
  {
   "cell_type": "markdown",
   "metadata": {},
   "source": [
    "The `results` object is another dictionary that contains all the information generated by performing the calculation."
   ]
  },
  {
   "cell_type": "code",
   "execution_count": 3,
   "metadata": {},
   "outputs": [
    {
     "data": {
      "text/plain": [
       "<matplotlib.image.AxesImage at 0x113cc0588>"
      ]
     },
     "execution_count": 3,
     "metadata": {},
     "output_type": "execute_result"
    },
    {
     "data": {
      "image/png": "[encoded data removed]",
      "text/plain": [
       "<matplotlib.figure.Figure at 0x113cc0a58>"
      ]
     },
     "metadata": {},
     "output_type": "display_data"
    }
   ],
   "source": [
    "%matplotlib inline\n",
    "\n",
    "import matplotlib.pyplot as plt\n",
    "\n",
    "f, ax = plt.subplots()\n",
    "\n",
    "ax.imshow(results['2d']['saturation'])"
   ]
  },
  {
   "cell_type": "markdown",
   "metadata": {},
   "source": [
    "# Batch mode\n",
    "\n",
    "This system allows for very straight forward iteration over parameter space values."
   ]
  },
  {
   "cell_type": "markdown",
   "metadata": {},
   "source": [
    "## Saturation"
   ]
  },
  {
   "cell_type": "code",
   "execution_count": 4,
   "metadata": {},
   "outputs": [
    {
     "name": "stderr",
     "output_type": "stream",
     "text": [
      "/Users/mperrin/Dropbox (Personal)/Documents/software/git/pandeia.engine-1.2.1/build/lib/pandeia/engine/etc3D.py:1053: RuntimeWarning: invalid value encountered in sqrt\n",
      "  stdev_pix = np.sqrt(var_pix)\n",
      "/Users/mperrin/Dropbox (Personal)/Documents/software/git/pandeia.engine-1.2.1/build/lib/pandeia/engine/strategy.py:382: RuntimeWarning: invalid value encountered in sqrt\n",
      "  sigma_products.append(np.sqrt(var_product.item()))\n"
     ]
    }
   ],
   "source": [
    "import numpy as np\n",
    "\n",
    "# Load in a calculation file, in this case the MIRI coronagraph\n",
    "with open(\"../configurations/jwst/miri/coronography.json\") as f:\n",
    "    coro_data = json.load(f)\n",
    "    \n",
    "# Define some variables for saturation exploration\n",
    "tot_none, tot_soft, tot_hard = [], [], []\n",
    "flux_range = np.linspace(0.1, 1e8, 10)\n",
    "    \n",
    "# Loop over some flux range to discern saturation levels\n",
    "for flux in flux_range:\n",
    "    # Set the flux value\n",
    "    coro_data['scene'][0]['spectrum']['normalization']['norm_flux'] = flux\n",
    "    \n",
    "    # Perform a calculation\n",
    "    results = perform_calculation(coro_data)\n",
    "    \n",
    "    # Store the saturation so it's easily accessible\n",
    "    saturation = results['2d']['saturation']\n",
    "    \n",
    "    tot_none.append(len(saturation[saturation==0]))\n",
    "    tot_soft.append(len(saturation[saturation==1]))\n",
    "    tot_hard.append(len(saturation[saturation==2]))"
   ]
  },
  {
   "cell_type": "code",
   "execution_count": 5,
   "metadata": {},
   "outputs": [
    {
     "data": {
      "text/plain": [
       "<matplotlib.legend.Legend at 0x13b5d50f0>"
      ]
     },
     "execution_count": 5,
     "metadata": {},
     "output_type": "execute_result"
    },
    {
     "data": {
      "image/png": "[encoded data removed]",
      "text/plain": [
       "<matplotlib.figure.Figure at 0x13b6bf898>"
      ]
     },
     "metadata": {},
     "output_type": "display_data"
    }
   ],
   "source": [
    "# Plot the values\n",
    "\n",
    "f, ax = plt.subplots()\n",
    "\n",
    "ax.plot(flux_range, tot_none, label=\"No saturation\")\n",
    "ax.plot(flux_range, tot_soft, label=\"Soft saturation\")\n",
    "ax.plot(flux_range, tot_hard, label=\"Hard saturation\")\n",
    "\n",
    "ax.set_ylabel(\"Pixels [counts]\")\n",
    "ax.set_xlabel(\"Flux [mJy]\")\n",
    "ax.legend(loc=0)"
   ]
  },
  {
   "cell_type": "markdown",
   "metadata": {},
   "source": [
    "## Contrast"
   ]
  },
  {
   "cell_type": "code",
   "execution_count": 6,
   "metadata": {},
   "outputs": [],
   "source": [
    "import numpy as np\n",
    "\n",
    "# Load in a calculation file, in this case the MIRI coronagraph\n",
    "with open(\"../configurations/jwst/miri/coronography.json\") as f:\n",
    "    coro_data = json.load(f)\n",
    "    \n",
    "# Define some variables for saturation exploration\n",
    "flux_range = np.linspace(0.1, 1.0, 10)\n",
    "\n",
    "# Define some variables for contrast exploration\n",
    "tot_cont = []\n",
    "    \n",
    "# Loop over some flux range to discern saturation levels\n",
    "for flux in flux_range:\n",
    "    # Set the flux value\n",
    "    coro_data['scene'][0]['spectrum']['normalization']['norm_flux'] = flux\n",
    "    \n",
    "    # Perform a calculation\n",
    "    results = perform_calculation(coro_data)\n",
    "    \n",
    "    # Get the scalar value of the contrast for the detector plane\n",
    "    tot_cont.append(results['scalar']['contrast'])"
   ]
  },
  {
   "cell_type": "code",
   "execution_count": 7,
   "metadata": {},
   "outputs": [
    {
     "data": {
      "text/plain": [
       "<matplotlib.text.Text at 0x13cb8bef0>"
      ]
     },
     "execution_count": 7,
     "metadata": {},
     "output_type": "execute_result"
    },
    {
     "data": {
      "image/png": "[encoded data removed]",
      "text/plain": [
       "<matplotlib.figure.Figure at 0x114c06518>"
      ]
     },
     "metadata": {},
     "output_type": "display_data"
    }
   ],
   "source": [
    "# Plot the values\n",
    "\n",
    "f, ax = plt.subplots()\n",
    "\n",
    "ax.plot(flux_range, tot_cont)\n",
    "\n",
    "ax.set_ylabel(\"Contrast\")\n",
    "ax.set_xlabel(\"Flux [mJy]\")"
   ]
  },
  {
   "cell_type": "code",
   "execution_count": null,
   "metadata": {
    "collapsed": true
   },
   "outputs": [],
   "source": []
  }
 ],
 "metadata": {
  "kernelspec": {
   "display_name": "Python 3",
   "language": "python",
   "name": "python3"
  },
  "language_info": {
   "codemirror_mode": {
    "name": "ipython",
    "version": 3
   },
   "file_extension": ".py",
   "mimetype": "text/x-python",
   "name": "python",
   "nbconvert_exporter": "python",
   "pygments_lexer": "ipython3",
   "version": "3.5.2"
  }
 },
 "nbformat": 4,
 "nbformat_minor": 2
}
